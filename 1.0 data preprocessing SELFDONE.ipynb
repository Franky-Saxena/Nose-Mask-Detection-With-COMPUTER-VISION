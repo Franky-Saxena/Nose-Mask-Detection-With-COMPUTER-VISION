{
 "cells": [
  {
   "cell_type": "code",
   "execution_count": 3,
   "id": "45aa5809-0b4c-48a3-ae20-9e6d536fef64",
   "metadata": {},
   "outputs": [
    {
     "name": "stdout",
     "output_type": "stream",
     "text": [
      "Requirement already satisfied: opencv-python==4.5.5.62 in c:\\users\\frank\\anaconda3\\lib\\site-packages (4.5.5.62)\n",
      "Requirement already satisfied: numpy>=1.17.3 in c:\\users\\frank\\anaconda3\\lib\\site-packages (from opencv-python==4.5.5.62) (1.21.5)\n"
     ]
    }
   ],
   "source": [
    "!pip3 install opencv-python==4.5.5.62"
   ]
  },
  {
   "cell_type": "code",
   "execution_count": 1,
   "id": "5d3338e0-a17e-43f5-805f-3516afb9d6f8",
   "metadata": {},
   "outputs": [
    {
     "name": "stdout",
     "output_type": "stream",
     "text": [
      "{'with mask': 0, 'without mask': 1}\n",
      "['with mask', 'without mask']\n",
      "[0, 1]\n"
     ]
    }
   ],
   "source": [
    "import cv2\n",
    "import os\n",
    "\n",
    "data_path = 'dataset'\n",
    "categories = os.listdir(data_path) #mask and no mask\n",
    "labels = [i for i in range(len(categories))]\n",
    "\n",
    "label_dict = dict(zip(categories, labels)) # empty dictionary\n",
    "\n",
    "print(label_dict)\n",
    "print(categories)\n",
    "print(labels)"
   ]
  },
  {
   "cell_type": "code",
   "execution_count": 2,
   "id": "735ccf1d-ddbd-4578-b96a-4588762bf944",
   "metadata": {},
   "outputs": [],
   "source": [
    "img_size = 100\n",
    "data = []\n",
    "target = []\n",
    "\n",
    "for category in categories:\n",
    "    folder_path = os.path.join(data_path, category) # e.g. dataset/with_mask or dataset/without_mask\n",
    "    img_names = os.listdir(folder_path) #listing all the image names\n",
    "    \n",
    "    for img_name in img_names:\n",
    "        img_path = os.path.join(folder_path, img_name) # e.g. dataset/with_mask/0-with-mask or dataset/without_mask/0.jpg\n",
    "        img = cv2.imread(img_path) #read the image\n",
    "        \n",
    "        try:\n",
    "            gray = cv2.cvtColor(img, cv2.COLOR_BGR2GRAY) # convert from color to gray\n",
    "            resized = cv2.resize(gray, (img_size, img_size)) # resizing the gray scale into 100X100, since we need\n",
    "            \n",
    "            # appending the image and the label(categorized) into the list (dataset)\n",
    "            data.append(resized)\n",
    "            target.append(label_dict[category])\n",
    "        \n",
    "        # if any exception raised, the exception will be printed here. And pass to the next image\n",
    "        except Exception as e:\n",
    "            print('Exception:',e) "
   ]
  },
  {
   "cell_type": "code",
   "execution_count": 4,
   "id": "ed3dcefd-ac41-4cf6-b755-036318082f75",
   "metadata": {},
   "outputs": [],
   "source": [
    "import numpy as np\n",
    "\n",
    "data = np.array(data)/255.0 #normalise the data to convert the pixel range\n",
    "data = np.resize(data, (data.shape[0], img_size, img_size,1)) #convert to \n",
    "\n",
    "from keras.utils import np_utils\n",
    "\n",
    "new_target = np_utils.to_categorical(target) #convert to categorical since"
   ]
  },
  {
   "cell_type": "code",
   "execution_count": 5,
   "id": "59bdb8a0-8992-4df1-83a8-8c9b3ab37e7f",
   "metadata": {},
   "outputs": [],
   "source": [
    "np.save('data',data)\n",
    "np.save('target', new_target)"
   ]
  }
 ],
 "metadata": {
  "kernelspec": {
   "display_name": "Python 3 (ipykernel)",
   "language": "python",
   "name": "python3"
  },
  "language_info": {
   "codemirror_mode": {
    "name": "ipython",
    "version": 3
   },
   "file_extension": ".py",
   "mimetype": "text/x-python",
   "name": "python",
   "nbconvert_exporter": "python",
   "pygments_lexer": "ipython3",
   "version": "3.9.12"
  }
 },
 "nbformat": 4,
 "nbformat_minor": 5
}
